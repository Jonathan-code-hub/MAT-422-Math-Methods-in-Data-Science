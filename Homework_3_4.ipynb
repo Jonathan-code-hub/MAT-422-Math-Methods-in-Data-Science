{
  "nbformat": 4,
  "nbformat_minor": 0,
  "metadata": {
    "colab": {
      "provenance": [],
      "authorship_tag": "ABX9TyPZtRcSa3HreYjsnFcG3ShC",
      "include_colab_link": true
    },
    "kernelspec": {
      "name": "python3",
      "display_name": "Python 3"
    },
    "language_info": {
      "name": "python"
    }
  },
  "cells": [
    {
      "cell_type": "markdown",
      "metadata": {
        "id": "view-in-github",
        "colab_type": "text"
      },
      "source": [
        "<a href=\"https://colab.research.google.com/github/Jonathan-code-hub/MAT-422-Math-Methods-in-Data-Science/blob/main/Homework_3_4.ipynb\" target=\"_parent\"><img src=\"https://colab.research.google.com/assets/colab-badge.svg\" alt=\"Open In Colab\"/></a>"
      ]
    },
    {
      "cell_type": "markdown",
      "source": [
        "3.4 Logistic Regression"
      ],
      "metadata": {
        "id": "6q_O-p1GIRfk"
      }
    },
    {
      "cell_type": "code",
      "execution_count": null,
      "metadata": {
        "id": "luWQBzWXIOZO",
        "colab": {
          "base_uri": "https://localhost:8080/"
        },
        "outputId": "06579d6c-51c3-4aa4-d98d-2cffc9be5c12"
      },
      "outputs": [
        {
          "output_type": "stream",
          "name": "stdout",
          "text": [
            "Accuracy of the Logistic Regression model: 1.0\n"
          ]
        }
      ],
      "source": [
        "# Demonstrating Logistic Regression #\n",
        "\n",
        "import numpy as np\n",
        "from sklearn.linear_model import LogisticRegression\n",
        "from sklearn.model_selection import train_test_split\n",
        "from sklearn.metrics import accuracy_score\n",
        "\n",
        "# Logistic Regression is a learning algorithm used for binary classification problems. #\n",
        "# It predicts the probability that a given input belongs to a particular class. #\n",
        "# The logistic function is used to map any real-valued number to a value between 0 and 1. #\n",
        "# This makes it suitable for binary classification, as we can interpret the output as a probability. #\n",
        "\n",
        "# Create a synthetic dataset for demonstration purposes #\n",
        "# Here, we generate random data for two classes (0 and 1) #\n",
        "np.random.seed(42)  # For reproducibility #\n",
        "X = np.random.randn(100, 2)  # 100 samples, 2 features #\n",
        "y = (X[:, 0] + X[:, 1] > 0).astype(int)  # Label based on a simple rule: x1 + x2 > 0 #\n",
        "\n",
        "# Split the dataset into training and testing sets #\n",
        "X_train, X_test, y_train, y_test = train_test_split(X, y, test_size=0.2, random_state=42)\n",
        "\n",
        "# Initialize and train a Logistic Regression model #\n",
        "model = LogisticRegression()\n",
        "model.fit(X_train, y_train)\n",
        "\n",
        "# Predict the labels for the test set #\n",
        "y_pred = model.predict(X_test)\n",
        "\n",
        "# Calculate the accuracy of the model #\n",
        "accuracy = accuracy_score(y_test, y_pred)\n",
        "\n",
        "print(\"Accuracy of the Logistic Regression model:\", accuracy)"
      ]
    },
    {
      "cell_type": "markdown",
      "source": [
        "Logistic Regression applied to Iris Dataset"
      ],
      "metadata": {
        "id": "9b5svkPHIR2I"
      }
    },
    {
      "cell_type": "code",
      "source": [
        "# Logistic Regression with the Iris Dataset #\n",
        "\n",
        "import numpy as np\n",
        "from sklearn import datasets\n",
        "from sklearn.linear_model import LogisticRegression\n",
        "from sklearn.model_selection import train_test_split\n",
        "from sklearn.metrics import accuracy_score, classification_report\n",
        "\n",
        "# Load the Iris dataset from sklearn #\n",
        "# The Iris dataset contains 150 samples of flowers, each described by 4 features (sepal length, sepal width, petal length, petal width) #\n",
        "# There are 3 classes, but we'll use only two classes (binary classification) #\n",
        "iris = datasets.load_iris()\n",
        "X = iris.data\n",
        "y = iris.target\n",
        "\n",
        "# For binary classification, we'll filter out two classes: #\n",
        "# Setosa (class 0) and Versicolor (class 1) #\n",
        "# This reduces the problem to binary classification #\n",
        "binary_filter = y < 2\n",
        "X_binary = X[binary_filter]\n",
        "y_binary = y[binary_filter]\n",
        "\n",
        "# Split the data into training and testing sets #\n",
        "X_train, X_test, y_train, y_test = train_test_split(X_binary, y_binary, test_size=0.3, random_state=42)\n",
        "\n",
        "# Initialize and train a Logistic Regression model #\n",
        "model = LogisticRegression()\n",
        "model.fit(X_train, y_train)\n",
        "\n",
        "# Predict the labels for the test set #\n",
        "y_pred = model.predict(X_test)\n",
        "\n",
        "# Calculate the accuracy of the model #\n",
        "accuracy = accuracy_score(y_test, y_pred)\n",
        "print(\"Accuracy of the Logistic Regression model on the Iris dataset:\", accuracy)\n",
        "\n",
        "# Print classification report #\n",
        "print(\"\\nClassification report:\")\n",
        "print(classification_report(y_test, y_pred, target_names=iris.target_names[:2]))"
      ],
      "metadata": {
        "id": "2xZHpjX_ISou",
        "colab": {
          "base_uri": "https://localhost:8080/"
        },
        "outputId": "76f47c89-a61a-4762-9b30-cb4af12f0035"
      },
      "execution_count": null,
      "outputs": [
        {
          "output_type": "stream",
          "name": "stdout",
          "text": [
            "Accuracy of the Logistic Regression model on the Iris dataset: 1.0\n",
            "\n",
            "Classification report:\n",
            "              precision    recall  f1-score   support\n",
            "\n",
            "      setosa       1.00      1.00      1.00        17\n",
            "  versicolor       1.00      1.00      1.00        13\n",
            "\n",
            "    accuracy                           1.00        30\n",
            "   macro avg       1.00      1.00      1.00        30\n",
            "weighted avg       1.00      1.00      1.00        30\n",
            "\n"
          ]
        }
      ]
    }
  ]
}
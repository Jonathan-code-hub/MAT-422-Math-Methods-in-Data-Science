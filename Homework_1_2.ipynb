{
  "nbformat": 4,
  "nbformat_minor": 0,
  "metadata": {
    "colab": {
      "provenance": [],
      "authorship_tag": "ABX9TyPy1Ty1D5CdPzvB3oIsqEcF",
      "include_colab_link": true
    },
    "kernelspec": {
      "name": "python3",
      "display_name": "Python 3"
    },
    "language_info": {
      "name": "python"
    }
  },
  "cells": [
    {
      "cell_type": "markdown",
      "metadata": {
        "id": "view-in-github",
        "colab_type": "text"
      },
      "source": [
        "<a href=\"https://colab.research.google.com/github/Jonathan-code-hub/MAT-422-Math-Methods-in-Data-Science/blob/main/homework_1_2.ipynb\" target=\"_parent\"><img src=\"https://colab.research.google.com/assets/colab-badge.svg\" alt=\"Open In Colab\"/></a>"
      ]
    },
    {
      "cell_type": "markdown",
      "source": [
        "Linear Spaces"
      ],
      "metadata": {
        "id": "OXlqiVqSXwlV"
      }
    },
    {
      "cell_type": "code",
      "execution_count": null,
      "metadata": {
        "id": "DM83Rvhh5kDX",
        "colab": {
          "base_uri": "https://localhost:8080/"
        },
        "outputId": "3621860f-b10d-42b2-d0f4-7e2b18726ed0"
      },
      "outputs": [
        {
          "output_type": "stream",
          "name": "stdout",
          "text": [
            "v1 + v2 = Vector([4 6])\n",
            "2 * v1 = Vector([2 4])\n",
            "Is Vector([0 0]) a zero vector? True\n",
            "v1 + (-v1) = Vector([0 0]) (Should be zero vector)\n",
            "2 * v1 + 3 * v3 = Vector([-1 -2])\n"
          ]
        }
      ],
      "source": [
        "import numpy as np\n",
        "\n",
        "class Vector:\n",
        "    def __init__(self, coordinates):\n",
        "        self.coordinates = np.array(coordinates)\n",
        "\n",
        "    def __add__(self, other):\n",
        "        return Vector(self.coordinates + other.coordinates)\n",
        "\n",
        "    def __mul__(self, scalar):\n",
        "        return Vector(self.coordinates * scalar)\n",
        "\n",
        "    def __neg__(self):\n",
        "        return Vector(-self.coordinates)\n",
        "\n",
        "    def is_zero(self):\n",
        "        return np.all(self.coordinates == 0)\n",
        "\n",
        "    def __repr__(self):\n",
        "        return f\"Vector({self.coordinates})\"\n",
        "\n",
        "# Define vectors #\n",
        "v1 = Vector([1, 2])\n",
        "v2 = Vector([3, 4])\n",
        "v3 = Vector([-1, -2])\n",
        "\n",
        "# Check closure under addition #\n",
        "v_add = v1 + v2\n",
        "print(f\"v1 + v2 = {v_add}\")\n",
        "\n",
        "# Check closure under scalar multiplication #\n",
        "scalar = 2\n",
        "v_scalar_mult = v1 * scalar\n",
        "print(f\"{scalar} * v1 = {v_scalar_mult}\")\n",
        "\n",
        "# Check the existence of the zero vector #\n",
        "zero_vector = Vector([0, 0])\n",
        "print(f\"Is {zero_vector} a zero vector? {zero_vector.is_zero()}\")\n",
        "\n",
        "# Check additive inverse #\n",
        "v_inverse = -v1\n",
        "v_sum = v1 + v_inverse\n",
        "print(f\"v1 + (-v1) = {v_sum} (Should be zero vector)\")\n",
        "\n",
        "# Demonstrate linear combinations (span) #\n",
        "# Any linear combination of vectors v1 and v3 should still be in the space #\n",
        "\n",
        "linear_combination = v1 * 2 + v3 * 3\n",
        "print(f\"2 * v1 + 3 * v3 = {linear_combination}\")"
      ]
    },
    {
      "cell_type": "markdown",
      "source": [
        "Orthogonality"
      ],
      "metadata": {
        "id": "7vpYl4h7XzQ4"
      }
    },
    {
      "cell_type": "code",
      "source": [
        "def is_orthogonal(vectors, tol=1e-10):\n",
        "    \"\"\"\n",
        "    Checks if a set of vectors is orthogonal.\n",
        "\n",
        "    Args:\n",
        "    vectors -- List of vectors to check for orthogonality.\n",
        "    tol (float) -- Tolerance for considering dot products as zero (to handle floating-point precision).\n",
        "\n",
        "    Returns:\n",
        "    bool -- True if the vectors are orthogonal, false if not\n",
        "    \"\"\"\n",
        "    # Number of vectors #\n",
        "    num_vectors = len(vectors)\n",
        "\n",
        "    # Check each pair of distinct vectors #\n",
        "    for i in range(num_vectors):\n",
        "        for j in range(i + 1, num_vectors):\n",
        "            dot_product = np.dot(vectors[i], vectors[j])\n",
        "            if abs(dot_product) > tol:  # If the dot product is not close to zero #\n",
        "                return False\n",
        "\n",
        "    return True\n",
        "\n",
        "# Example #\n",
        "vectors = [np.array([1, 0, 0]), np.array([0, 1, 0]), np.array([0, 0, 1])]\n",
        "result = is_orthogonal(vectors)\n",
        "\n",
        "if result:\n",
        "    print(\"The set of vectors is orthogonal.\")\n",
        "else:\n",
        "    print(\"The set of vectors is not orthogonal.\")"
      ],
      "metadata": {
        "id": "YvhjycHRXz3q"
      },
      "execution_count": null,
      "outputs": []
    },
    {
      "cell_type": "markdown",
      "source": [
        "Gram–Schmidt process"
      ],
      "metadata": {
        "id": "C0d_GbbrXziI"
      }
    },
    {
      "cell_type": "code",
      "source": [
        "import numpy as np\n",
        "\n",
        "def gram_schmidt(vectors):\n",
        "    \"\"\"\n",
        "    Orthonormalizes a set of vectors using the Gram-Schmidt process.\n",
        "\n",
        "    vectors - List of vectors to orthonormalize.\n",
        "\n",
        "    np.ndarray -- Orthonormalized set of vectors.\n",
        "    \"\"\"\n",
        "    # Ensure the input is a numpy array #\n",
        "    vectors = np.array(vectors, dtype=float)\n",
        "\n",
        "    # Number of vectors #\n",
        "    num_vectors = vectors.shape[0]\n",
        "\n",
        "    # Initialize an empty array to hold the orthonormal vectors #\n",
        "    orthonormal_basis = np.zeros_like(vectors)\n",
        "\n",
        "    for i in range(num_vectors):\n",
        "        # Start with the current vector #\n",
        "        vi = vectors[i]\n",
        "\n",
        "        # Subtract the projection of vi onto all previously computed orthonormal vectors #\n",
        "        for j in range(i):\n",
        "            vj = orthonormal_basis[j]\n",
        "            projection = np.dot(vi, vj) * vj\n",
        "            vi -= projection\n",
        "\n",
        "        # Normalize the vector #\n",
        "        norm = np.linalg.norm(vi)\n",
        "        if norm > 1e-10:  # Avoid division by zero for nearly zero vectors #\n",
        "            orthonormal_basis[i] = vi / norm\n",
        "\n",
        "    return orthonormal_basis\n",
        "\n",
        "# Example #\n",
        "vectors = [np.array([1, 1, 1]), np.array([1, 0, 0]), np.array([0, 1, 0])]\n",
        "orthonormal_vectors = gram_schmidt(vectors)\n",
        "\n",
        "print(\"Orthonormal basis:\")\n",
        "print(orthonormal_vectors)"
      ],
      "metadata": {
        "colab": {
          "base_uri": "https://localhost:8080/"
        },
        "id": "XPs6IBqSX0Gs",
        "outputId": "4992a919-4133-47f8-fea5-07c5374fa269"
      },
      "execution_count": null,
      "outputs": [
        {
          "output_type": "stream",
          "name": "stdout",
          "text": [
            "Orthonormal basis:\n",
            "[[ 5.77350269e-01  5.77350269e-01  5.77350269e-01]\n",
            " [ 8.16496581e-01 -4.08248290e-01 -4.08248290e-01]\n",
            " [-3.92523115e-16  7.07106781e-01 -7.07106781e-01]]\n"
          ]
        }
      ]
    },
    {
      "cell_type": "markdown",
      "source": [
        "Eigenvalues and Eigenvectors"
      ],
      "metadata": {
        "id": "m9-XlwmfX0T6"
      }
    },
    {
      "cell_type": "code",
      "source": [
        "import numpy as np\n",
        "\n",
        "def eigenvalues(matrix):\n",
        "    \"\"\"\n",
        "    Computes the eigenvalues of a given matrix.\n",
        "\n",
        "    matrix -- A square matrix (2D array).\n",
        "\n",
        "    np.ndarray -- The eigenvalues of the matrix.\n",
        "    \"\"\"\n",
        "    # Ensure the input is a numpy array #\n",
        "    matrix = np.array(matrix)\n",
        "\n",
        "    # Check if the matrix is square #\n",
        "    if matrix.shape[0] != matrix.shape[1]:\n",
        "        raise ValueError(\"The input matrix must be square (n x n).\")\n",
        "\n",
        "    # Compute the eigenvalues using numpy's linalg.eigvals function #\n",
        "    eigenvalues = np.linalg.eigvals(matrix)\n",
        "\n",
        "    return eigenvalues\n",
        "\n",
        "# Example #\n",
        "matrix = np.array([[4, -2],\n",
        "                   [1,  1]])\n",
        "eigenvalues = eigenvalues(matrix)\n",
        "\n",
        "print(\"Eigenvalues of the matrix:\")\n",
        "print(eigenvalues)"
      ],
      "metadata": {
        "colab": {
          "base_uri": "https://localhost:8080/"
        },
        "id": "zxw3cQPmYqfv",
        "outputId": "c2ea799e-812d-4b91-f442-5489a0249bf6"
      },
      "execution_count": null,
      "outputs": [
        {
          "output_type": "stream",
          "name": "stdout",
          "text": [
            "Eigenvalues of the matrix:\n",
            "[3. 2.]\n"
          ]
        }
      ]
    },
    {
      "cell_type": "code",
      "source": [
        "import numpy as np\n",
        "\n",
        "def eigenvalues_and_eigenvectors(matrix):\n",
        "    \"\"\"\n",
        "    Computes the eigenvalues and eigenvectors of a given matrix.\n",
        "\n",
        "    matrix -- A square matrix (2D numpy array).\n",
        "\n",
        "    tuple -- A tuple containing a numpy array of eigenvalues and a numpy array of the corresponding eigenvectors.\n",
        "    \"\"\"\n",
        "    # Ensure the input is a numpy array #\n",
        "    matrix = np.array(matrix)\n",
        "\n",
        "    # Check if the matrix is square #\n",
        "    if matrix.shape[0] != matrix.shape[1]:\n",
        "        raise ValueError(\"The input matrix must be square (n x n).\")\n",
        "\n",
        "    # Compute the eigenvalues and eigenvectors using numpy's linalg.eig function #\n",
        "    eigenvalues, eigenvectors = np.linalg.eig(matrix)\n",
        "\n",
        "    return eigenvalues, eigenvectors\n",
        "\n",
        "# Example usage #\n",
        "matrix = np.array([[3, -1],\n",
        "                   [1,  2]])\n",
        "eigenvalues, eigenvectors = eigenvalues_and_eigenvectors(matrix)\n",
        "\n",
        "print(\"Eigenvalues of the matrix:\")\n",
        "print(eigenvalues)\n",
        "print(\"Eigenvectors of the matrix:\")\n",
        "print(eigenvectors)"
      ],
      "metadata": {
        "colab": {
          "base_uri": "https://localhost:8080/"
        },
        "id": "nF50-W9qX0lm",
        "outputId": "b2543fb6-da72-40dc-b83d-7d0fa164780d"
      },
      "execution_count": null,
      "outputs": [
        {
          "output_type": "stream",
          "name": "stdout",
          "text": [
            "Eigenvalues of the matrix:\n",
            "[2.5+0.8660254j 2.5-0.8660254j]\n",
            "Eigenvectors of the matrix:\n",
            "[[-0.70710678+0.j         -0.70710678-0.j        ]\n",
            " [-0.35355339+0.61237244j -0.35355339-0.61237244j]]\n"
          ]
        }
      ]
    }
  ]
}

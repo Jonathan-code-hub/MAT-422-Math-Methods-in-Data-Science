{
  "nbformat": 4,
  "nbformat_minor": 0,
  "metadata": {
    "colab": {
      "provenance": [],
      "authorship_tag": "ABX9TyPLaBzzt9O6DJ3m0lstPO3f",
      "include_colab_link": true
    },
    "kernelspec": {
      "name": "python3",
      "display_name": "Python 3"
    },
    "language_info": {
      "name": "python"
    }
  },
  "cells": [
    {
      "cell_type": "markdown",
      "metadata": {
        "id": "view-in-github",
        "colab_type": "text"
      },
      "source": [
        "<a href=\"https://colab.research.google.com/github/Jonathan-code-hub/MAT-422-Math-Methods-in-Data-Science/blob/main/Homework_3_2.ipynb\" target=\"_parent\"><img src=\"https://colab.research.google.com/assets/colab-badge.svg\" alt=\"Open In Colab\"/></a>"
      ]
    },
    {
      "cell_type": "markdown",
      "source": [
        "3.2.1. Limits and Continuity"
      ],
      "metadata": {
        "id": "kl1i-rBfvISC"
      }
    },
    {
      "cell_type": "code",
      "execution_count": null,
      "metadata": {
        "colab": {
          "base_uri": "https://localhost:8080/"
        },
        "id": "njb8iQYMvF4U",
        "outputId": "a4b64e90-b2e9-43b4-a468-bdc103466411"
      },
      "outputs": [
        {
          "output_type": "stream",
          "name": "stdout",
          "text": [
            "Limit of f(x) as x approaches 0: oo\n",
            "Is f(x) continuous at x = 0? False\n"
          ]
        }
      ],
      "source": [
        "# Limits: The limit of a function describes what value the function approaches as the input (x) gets close to a specific point.\n",
        "# For example, as x gets closer to 0 for the function f(x) = 1/x, we can investigate what happens to the value of f(x).\n",
        "# Continuity: A function is continuous at a point if its value exists, and the left-hand limit (approaching from the left) and right-hand limit (approaching from the right) are the same, and equal to the function's value at that point.\n",
        "\n",
        "# Demonstrating limits and continuity #\n",
        "\n",
        "import sympy as sp\n",
        "\n",
        "# Define a symbolic variable #\n",
        "x = sp.Symbol('x')\n",
        "\n",
        "# Define a function, for example, f(x) = 1/x #\n",
        "f = 1 / x\n",
        "\n",
        "# Calculate the limit of f(x) as x approaches 0 #\n",
        "limit_value = sp.limit(f, x, 0)\n",
        "\n",
        "# Check continuity at x = 0 #\n",
        "continuity_at_zero = sp.limit(f, x, 0, dir='-') == sp.limit(f, x, 0, dir='+')\n",
        "\n",
        "print(\"Limit of f(x) as x approaches 0:\", limit_value)\n",
        "print(\"Is f(x) continuous at x = 0?\", continuity_at_zero)\n"
      ]
    },
    {
      "cell_type": "code",
      "source": [
        "import sympy as sp\n",
        "\n",
        "# Define symbolic variable x #\n",
        "x = sp.Symbol('x')\n",
        "\n",
        "# Define a function, for example, f(x) = (x^2 - 1)/(x - 1) #\n",
        "f = (x**2 - 1) / (x - 1)\n",
        "\n",
        "# Calculate the limit of f(x) as x approaches 1 #\n",
        "limit_at_1 = sp.limit(f, x, 1)\n",
        "\n",
        "# Print the result #\n",
        "print(\"Limit of f(x) as x approaches 1:\", limit_at_1)\n",
        "\n",
        "# Example of checking continuity for a piecewise function #\n",
        "# Define a piecewise function f(x), where it is x^2 for x < 0, and x + 1 for x >= 0 #\n",
        "f_piecewise = sp.Piecewise((x**2, x < 0), (x + 1, x >= 0))\n",
        "\n",
        "# Check the limit from both sides at x = 0 #\n",
        "left_limit = sp.limit(f_piecewise, x, 0, dir='-')\n",
        "right_limit = sp.limit(f_piecewise, x, 0, dir='+')\n",
        "\n",
        "# Check if it's continuous at x = 0 #\n",
        "continuity_at_zero = left_limit == right_limit\n",
        "\n",
        "# Print the results #\n",
        "print(\"Left-hand limit of piecewise function at x = 0:\", left_limit)\n",
        "print(\"Right-hand limit of piecewise function at x = 0:\", right_limit)\n",
        "print(\"Is the piecewise function continuous at x = 0?\", continuity_at_zero)"
      ],
      "metadata": {
        "colab": {
          "base_uri": "https://localhost:8080/"
        },
        "id": "Lik5Qwf6vJ8g",
        "outputId": "73a9f356-3fe3-4b71-e6b9-4bc640b3fc8e"
      },
      "execution_count": null,
      "outputs": [
        {
          "output_type": "stream",
          "name": "stdout",
          "text": [
            "Limit of f(x) as x approaches 1: 2\n",
            "Left-hand limit of piecewise function at x = 0: 1\n",
            "Right-hand limit of piecewise function at x = 0: 1\n",
            "Is the piecewise function continuous at x = 0? True\n"
          ]
        }
      ]
    },
    {
      "cell_type": "markdown",
      "source": [
        "3.2.2. Derivatives"
      ],
      "metadata": {
        "id": "yecdo6xGvIc7"
      }
    },
    {
      "cell_type": "code",
      "source": [
        "# A derivative represents the rate of change of a function with respect to its variable.\n",
        "# In simpler terms, it tells us how the function is changing at any given point.\n",
        "# For example, if we have a position function that gives us the location of an object over time,\n",
        "# the derivative of that function would tell us the speed (how fast the position is changing).\n",
        "\n",
        "# Demonstrating derivatives #\n",
        "\n",
        "# Define a function, for example, f(x) = x^2 #\n",
        "def f(x):\n",
        "    return x**2\n",
        "\n",
        "# This calculates the derivative of f(x) using first principles (approximation) #\n",
        "def derivative_at_point(f, x, h=0.0001):\n",
        "    return (f(x + h) - f(x)) / h\n",
        "\n",
        "# This calculates the derivative of f(x) at x = 2 #\n",
        "derivative_at_2 = derivative_at_point(f, 2)\n",
        "\n",
        "print(\"Derivative of f(x) at x = 2:\", derivative_at_2)\n"
      ],
      "metadata": {
        "colab": {
          "base_uri": "https://localhost:8080/"
        },
        "id": "OWZe1yqevIzM",
        "outputId": "d6015ad5-31b9-43cf-985d-f9c59b44370a"
      },
      "execution_count": null,
      "outputs": [
        {
          "output_type": "stream",
          "name": "stdout",
          "text": [
            "Derivative of f(x) at x = 2: 4.0001000000078335\n"
          ]
        }
      ]
    },
    {
      "cell_type": "code",
      "source": [
        "import sympy as sp\n",
        "\n",
        "# Define a symbolic variable and a function f(x) = x^3 - 2x + 1 #\n",
        "x = sp.Symbol('x')\n",
        "f = x**3 - 2*x + 1\n",
        "\n",
        "# Calculate the first derivative of f(x) #\n",
        "first_derivative = sp.diff(f, x)\n",
        "\n",
        "# Calculate the second derivative of f(x) (which is the derivative of the first derivative) #\n",
        "second_derivative = sp.diff(first_derivative, x)\n",
        "\n",
        "# Print the derivatives #\n",
        "print(\"First derivative of f(x):\", first_derivative)\n",
        "print(\"Second derivative of f(x):\", second_derivative)"
      ],
      "metadata": {
        "colab": {
          "base_uri": "https://localhost:8080/"
        },
        "id": "0smg1z-xvJuM",
        "outputId": "944b43b1-120e-4569-87d8-b8fbaaffb4f9"
      },
      "execution_count": null,
      "outputs": [
        {
          "output_type": "stream",
          "name": "stdout",
          "text": [
            "First derivative of f(x): 3*x**2 - 2\n",
            "Second derivative of f(x): 6*x\n"
          ]
        }
      ]
    },
    {
      "cell_type": "markdown",
      "source": [
        "3.2.3. Taylor’s theorem"
      ],
      "metadata": {
        "id": "SeOwFbVkvJFV"
      }
    },
    {
      "cell_type": "code",
      "source": [
        "# Taylor's theorem provides an approximation of a smooth function as a sum of polynomial terms.\n",
        "# It expresses a function as a series expansion around a point (usually around x = 0, called a \"Maclaurin series\").\n",
        "# The more terms we include, the closer the polynomial approximates the function near that point.\n",
        "\n",
        "# Demonstrating Taylor's theorem #\n",
        "\n",
        "import sympy as sp\n",
        "\n",
        "# Define a symbolic variable and a function, for example, f(x) = sin(x) #\n",
        "x = sp.Symbol('x')\n",
        "f = sp.sin(x)\n",
        "\n",
        "# Calculate the Taylor series expansion of f(x) around x = 0 up to degree 3 #\n",
        "taylor_series = sp.series(f, x, 0, 4).removeO()\n",
        "\n",
        "print(\"Taylor series expansion of sin(x) around x = 0 up to degree 3:\")\n",
        "print(taylor_series)\n"
      ],
      "metadata": {
        "colab": {
          "base_uri": "https://localhost:8080/"
        },
        "id": "lBFEdp8mvJVi",
        "outputId": "970a05c9-5a19-4024-e7f9-4cf2daa3be5a"
      },
      "execution_count": null,
      "outputs": [
        {
          "output_type": "stream",
          "name": "stdout",
          "text": [
            "Taylor series expansion of sin(x) around x = 0 up to degree 3:\n",
            "-x**3/6 + x\n"
          ]
        }
      ]
    },
    {
      "cell_type": "code",
      "source": [
        "import numpy as np\n",
        "import matplotlib.pyplot as plt\n",
        "\n",
        "# Define the actual function and its Taylor approximation #\n",
        "def actual_function(x):\n",
        "    return np.sin(x)\n",
        "\n",
        "def taylor_approximation(x):\n",
        "    # This is the Taylor series for sin(x) around 0 up to degree 5: x - x^3/3! + x^5/5!\n",
        "    return x - (x**3)/6 + (x**5)/120\n",
        "\n",
        "# Generates x values #\n",
        "x_vals = np.linspace(-2 * np.pi, 2 * np.pi, 400)\n",
        "\n",
        "# Computes the actual function and the Taylor approximation #\n",
        "y_actual = actual_function(x_vals)\n",
        "y_taylor = taylor_approximation(x_vals)\n",
        "\n",
        "# Plots the actual function and the Taylor approximation #\n",
        "plt.plot(x_vals, y_actual, label=\"sin(x)\", color=\"blue\")\n",
        "plt.plot(x_vals, y_taylor, label=\"Taylor Approx (degree 5)\", linestyle='--', color=\"red\")\n",
        "\n",
        "# Add labels and legend #\n",
        "plt.title(\"Comparison: sin(x) vs Taylor Approximation (degree 5)\")\n",
        "plt.xlabel(\"x\")\n",
        "plt.ylabel(\"y\")\n",
        "plt.legend()\n",
        "\n",
        "# Displays the plot #\n",
        "plt.grid(True)\n",
        "plt.show()\n"
      ],
      "metadata": {
        "colab": {
          "base_uri": "https://localhost:8080/",
          "height": 472
        },
        "id": "QToU6q5qvKTo",
        "outputId": "07d27ed9-8fbd-44ef-92fd-4bff17fe07ec"
      },
      "execution_count": null,
      "outputs": [
        {
          "output_type": "display_data",
          "data": {
            "text/plain": [
              "<Figure size 640x480 with 1 Axes>"
            ],
            "image/png": "[encoded data removed]"
          },
          "metadata": {}
        }
      ]
    },
    {
      "cell_type": "code",
      "source": [],
      "metadata": {
        "id": "JPbvqogdy0s1"
      },
      "execution_count": null,
      "outputs": []
    }
  ]
}